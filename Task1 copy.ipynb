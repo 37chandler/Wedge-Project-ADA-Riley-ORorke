{
 "cells": [
  {
   "cell_type": "markdown",
   "metadata": {},
   "source": [
    "Extract the Main Zip File"
   ]
  },
  {
   "cell_type": "code",
   "execution_count": 2,
   "metadata": {},
   "outputs": [
    {
     "name": "stdout",
     "output_type": "stream",
     "text": [
      "Extracted G:/College/University of Montana/Semester 3/Applied Data Analytics/Wedge Project/Wedge-Project-ADA-Riley-ORorke/data/WedgeZipOfZips(raw).zip to G:/College/University of Montana/Semester 3/Applied Data Analytics/Wedge Project/Wedge-Project-ADA-Riley-ORorke/data/extracted_main_zip\n"
     ]
    }
   ],
   "source": [
    "import zipfile\n",
    "import os\n",
    "\n",
    "def extract_main_zip(main_zip_file, extract_to_folder):\n",
    "    # Open the main zip file\n",
    "    with zipfile.ZipFile(main_zip_file, 'r') as main_zip:\n",
    "        # Extract all contents of the main zip file\n",
    "        main_zip.extractall(extract_to_folder)\n",
    "        print(f\"Extracted {main_zip_file} to {extract_to_folder}\")\n",
    "\n",
    "\n",
    "main_zip = 'G:/College/University of Montana/Semester 3/Applied Data Analytics/Wedge Project/Wedge-Project-ADA-Riley-ORorke/data/WedgeZipOfZips(raw).zip'\n",
    "extract_folder = 'G:/College/University of Montana/Semester 3/Applied Data Analytics/Wedge Project/Wedge-Project-ADA-Riley-ORorke/data/extracted_main_zip'\n",
    "\n",
    "extract_main_zip(main_zip, extract_folder)\n"
   ]
  },
  {
   "cell_type": "markdown",
   "metadata": {},
   "source": [
    "Extract the Nested Zip Files"
   ]
  },
  {
   "cell_type": "code",
   "execution_count": 6,
   "metadata": {},
   "outputs": [],
   "source": [
    "import zipfile\n",
    "import os\n",
    "\n",
    "def extract_all_csvs_to_one_folder(extract_folder, output_folder):\n",
    "    # Ensure the output folder exists\n",
    "    os.makedirs(output_folder, exist_ok=True)\n",
    "\n",
    "    # Walk through the extracted folder and look for zip files\n",
    "    for root, dirs, files in os.walk(extract_folder):\n",
    "        for file in files:\n",
    "            if file.endswith('.zip'):\n",
    "                nested_zip_path = os.path.join(root, file)\n",
    "                # Extract the nested zip file\n",
    "                with zipfile.ZipFile(nested_zip_path, 'r') as nested_zip:\n",
    "                    for zip_info in nested_zip.infolist():\n",
    "                        if zip_info.filename.endswith('.csv'):\n",
    "                            output_file_path = os.path.join(output_folder, zip_info.filename)\n",
    "                            # Check if the CSV file already exists in the output folder\n",
    "                            if not os.path.exists(output_file_path):\n",
    "                                # Extract the CSV if it doesn't already exist\n",
    "                                nested_zip.extract(zip_info, output_folder)\n",
    "                                print(f\"Extracted {zip_info.filename} to {output_folder}\")\n",
    "                            else:\n",
    "                                print(f\"Skipping {zip_info.filename}, already exists.\")\n",
    "\n",
    "# Example usage\n",
    "extract_folder = 'G:/College/University of Montana/Semester 3/Applied Data Analytics/Wedge Project/Wedge-Project-ADA-Riley-ORorke/extracted_main_zip'\n",
    "output_folder = 'D:/WedgeExtractedFiles/extracted_csv_files'  # Extract to different drive for space limitations\n",
    "\n",
    "extract_all_csvs_to_one_folder(extract_folder, output_folder)\n",
    "\n",
    "\n"
   ]
  }
 ],
 "metadata": {
  "kernelspec": {
   "display_name": "Python 3",
   "language": "python",
   "name": "python3"
  },
  "language_info": {
   "codemirror_mode": {
    "name": "ipython",
    "version": 3
   },
   "file_extension": ".py",
   "mimetype": "text/x-python",
   "name": "python",
   "nbconvert_exporter": "python",
   "pygments_lexer": "ipython3",
   "version": "3.12.6"
  }
 },
 "nbformat": 4,
 "nbformat_minor": 2
}
