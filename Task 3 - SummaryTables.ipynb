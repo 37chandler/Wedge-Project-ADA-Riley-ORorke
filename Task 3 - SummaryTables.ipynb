{
 "cells": [
  {
   "cell_type": "markdown",
   "metadata": {},
   "source": [
    "Build Summary Tables  \n",
    "    \n",
    "      \n",
    "      \n",
    "      \n",
    "1. Sales by date by hour:"
   ]
  },
  {
   "cell_type": "code",
   "execution_count": 1,
   "metadata": {},
   "outputs": [
    {
     "name": "stderr",
     "output_type": "stream",
     "text": [
      "C:\\Users\\Riley_26\\AppData\\Local\\Packages\\PythonSoftwareFoundation.Python.3.12_qbz5n2kfra8p0\\LocalCache\\local-packages\\Python312\\site-packages\\google\\cloud\\bigquery\\table.py:1727: UserWarning: BigQuery Storage module not found, fetch data with the REST endpoint instead.\n",
      "  warnings.warn(\n"
     ]
    },
    {
     "name": "stdout",
     "output_type": "stream",
     "text": [
      "  calendar_date  hour   total_spend  num_transactions  num_items\n",
      "0    2010-01-01     9 -7.105427e-15               254        175\n",
      "1    2010-01-01    10  3.213000e+02              1019        771\n",
      "2    2010-01-01    11 -2.258700e+02              1076        784\n",
      "3    2010-01-01    12 -6.736000e+01              1109        779\n",
      "4    2010-01-01    13  2.016000e+01              1562       1101\n"
     ]
    }
   ],
   "source": [
    "from google.cloud import bigquery\n",
    "import pandas as pd\n",
    "\n",
    "# Initialize a BigQuery client\n",
    "client = bigquery.Client()\n",
    "\n",
    "# Define project and dataset IDs as variables\n",
    "project_id = 'wedgeproject-rileyororke'\n",
    "dataset_id = 'transaction_tables'\n",
    "\n",
    "# Query to generate the 'Sales by date by hour' summary table\n",
    "query_sales_by_hour = f\"\"\"\n",
    "    SELECT\n",
    "        DATE(datetime) AS calendar_date,\n",
    "        EXTRACT(HOUR FROM datetime) AS hour,\n",
    "        SUM(total) AS total_spend,\n",
    "        COUNT(datetime) AS num_transactions,\n",
    "        SUM(CASE WHEN trans_status = ' ' OR trans_status = '' THEN 1 ELSE 0 END) AS num_items\n",
    "    FROM `{project_id}.{dataset_id}.transArchive_*`\n",
    "    WHERE CAST(card_no AS INT64) != 3  -- Exclude non-owners\n",
    "    GROUP BY calendar_date, hour\n",
    "    ORDER BY calendar_date, hour\n",
    "\"\"\"\n",
    "\n",
    "# Execute the query and fetch the data\n",
    "df_sales_by_hour = client.query(query_sales_by_hour).to_dataframe()\n",
    "\n",
    "# Display the result\n",
    "print(df_sales_by_hour.head())\n",
    "\n",
    "\n",
    "\n"
   ]
  },
  {
   "cell_type": "markdown",
   "metadata": {},
   "source": [
    "2. Sales by owner by year by month:"
   ]
  },
  {
   "cell_type": "code",
   "execution_count": 2,
   "metadata": {},
   "outputs": [
    {
     "name": "stderr",
     "output_type": "stream",
     "text": [
      "C:\\Users\\Riley_26\\AppData\\Local\\Packages\\PythonSoftwareFoundation.Python.3.12_qbz5n2kfra8p0\\LocalCache\\local-packages\\Python312\\site-packages\\google\\cloud\\bigquery\\table.py:1727: UserWarning: BigQuery Storage module not found, fetch data with the REST endpoint instead.\n",
      "  warnings.warn(\n"
     ]
    },
    {
     "name": "stdout",
     "output_type": "stream",
     "text": [
      "   card_no  year  month  total_sales  num_transactions  num_items\n",
      "0        1  2012      1        89.65                 5          0\n",
      "1        1  2012      2        86.79                11          0\n",
      "2        1  2012      3        44.21                 9          0\n",
      "3        1  2012      4       160.66                14          0\n",
      "4        1  2012      5        89.45                 5          0\n"
     ]
    }
   ],
   "source": [
    "from google.cloud import bigquery\n",
    "import pandas as pd\n",
    "\n",
    "# Initialize a BigQuery client\n",
    "client = bigquery.Client()\n",
    "\n",
    "# Define project and dataset IDs as variables\n",
    "project_id = 'wedgeproject-rileyororke'\n",
    "dataset_id = 'transaction_tables'\n",
    "\n",
    "# Query to generate the 'Sales by owner by year by month' summary table\n",
    "query_sales_by_owner = f\"\"\"\n",
    "    SELECT\n",
    "        CAST(card_no AS INT64) AS card_no,  -- Owner ID\n",
    "        EXTRACT(YEAR FROM datetime) AS year,\n",
    "        EXTRACT(MONTH FROM datetime) AS month,\n",
    "        SUM(total) AS total_sales,\n",
    "        COUNT(datetime) AS num_transactions,\n",
    "        SUM(CASE WHEN trans_status = ' ' OR trans_status = '' THEN 1 ELSE 0 END) AS num_items\n",
    "    FROM `{project_id}.{dataset_id}.transArchive_*`\n",
    "    WHERE CAST(card_no AS INT64) != 3  -- Exclude non-owners\n",
    "    GROUP BY card_no, year, month\n",
    "    ORDER BY card_no, year, month\n",
    "\"\"\"\n",
    "\n",
    "# Execute the query and fetch the data\n",
    "df_sales_by_owner = client.query(query_sales_by_owner).to_dataframe()\n",
    "\n",
    "# Display the result\n",
    "print(df_sales_by_owner.head())\n",
    "\n",
    "\n"
   ]
  },
  {
   "cell_type": "markdown",
   "metadata": {},
   "source": [
    "3. Sales by product description by year by month:"
   ]
  },
  {
   "cell_type": "code",
   "execution_count": 4,
   "metadata": {},
   "outputs": [
    {
     "name": "stderr",
     "output_type": "stream",
     "text": [
      "C:\\Users\\Riley_26\\AppData\\Local\\Packages\\PythonSoftwareFoundation.Python.3.12_qbz5n2kfra8p0\\LocalCache\\local-packages\\Python312\\site-packages\\google\\cloud\\bigquery\\table.py:1727: UserWarning: BigQuery Storage module not found, fetch data with the REST endpoint instead.\n",
      "  warnings.warn(\n"
     ]
    },
    {
     "name": "stdout",
     "output_type": "stream",
     "text": [
      "             upc                 description  department  year  month  \\\n",
      "0        6.39DP9                   GEN MERCH         9.0  2010      1   \n",
      "1  0000000013615   NUTS Almonds Raw Slivered         3.0  2010      1   \n",
      "2  0000000018505       MIX Hot Cocoa Organic         3.0  2010      1   \n",
      "3  0000000018605     BAKING Active Dry Yeast         3.0  2010      1   \n",
      "4  0000000018622  BAKING Choc Chips Dark Org         3.0  2010      1   \n",
      "\n",
      "   total_sales  num_transactions  num_items  dept_name  \n",
      "0       102.24                14         14  GEN MERCH  \n",
      "1       316.23               118        116       BULK  \n",
      "2        73.70                22         22       BULK  \n",
      "3       137.89               115        113       BULK  \n",
      "4       618.48               104        104       BULK  \n"
     ]
    }
   ],
   "source": [
    "from google.cloud import bigquery\n",
    "import pandas as pd\n",
    "\n",
    "# Initialize a BigQuery client\n",
    "client = bigquery.Client()\n",
    "\n",
    "# Define project and dataset IDs as variables\n",
    "project_id = 'wedgeproject-rileyororke'\n",
    "dataset_id = 'transaction_tables'\n",
    "\n",
    "# Query for 'Sales by product description by year by month'\n",
    "query_sales_by_product = f\"\"\"\n",
    "    WITH sales_data AS (\n",
    "        SELECT\n",
    "            upc,\n",
    "            description,\n",
    "            department,\n",
    "            EXTRACT(YEAR FROM datetime) AS year,\n",
    "            EXTRACT(MONTH FROM datetime) AS month,\n",
    "            SUM(total) AS total_sales,\n",
    "            COUNT(datetime) AS num_transactions,\n",
    "            SUM(CASE WHEN trans_status = ' ' OR trans_status = '' THEN 1 ELSE 0 END) AS num_items\n",
    "        FROM `{project_id}.{dataset_id}.transArchive_*`\n",
    "        WHERE CAST(card_no AS INT64) != 3  -- Exclude non-owners\n",
    "        GROUP BY upc, description, department, year, month\n",
    "    )\n",
    "    SELECT sd.*, dl.dept_name\n",
    "    FROM sales_data sd\n",
    "    LEFT JOIN `{project_id}.{dataset_id}.department_lookup` dl\n",
    "    ON sd.department = dl.department\n",
    "    ORDER BY year, month\n",
    "\"\"\"\n",
    "\n",
    "# Execute the query and fetch the data\n",
    "df_sales_by_product = client.query(query_sales_by_product).to_dataframe()\n",
    "\n",
    "# Display the result\n",
    "print(df_sales_by_product.head())\n"
   ]
  },
  {
   "cell_type": "markdown",
   "metadata": {},
   "source": [
    "Create SQLite Database and Insert Data"
   ]
  },
  {
   "cell_type": "code",
   "execution_count": 5,
   "metadata": {},
   "outputs": [
    {
     "name": "stdout",
     "output_type": "stream",
     "text": [
      "Summary tables created and stored in 'wedge_coop_summary.db'\n"
     ]
    }
   ],
   "source": [
    "import sqlite3  \n",
    "import pandas as pd\n",
    "\n",
    "# Create SQLite connection and cursor\n",
    "conn = sqlite3.connect('wedge_coop_summary.db')\n",
    "cursor = conn.cursor()\n",
    "\n",
    "# Drop the tables if they already exist\n",
    "cursor.execute('DROP TABLE IF EXISTS sales_by_hour')\n",
    "cursor.execute('DROP TABLE IF EXISTS sales_by_owner')\n",
    "cursor.execute('DROP TABLE IF EXISTS sales_by_product')\n",
    "\n",
    "# Create the tables in SQLite\n",
    "cursor.execute('''\n",
    "CREATE TABLE sales_by_hour (\n",
    "    year INTEGER,\n",
    "    month INTEGER,\n",
    "    day INTEGER,\n",
    "    hour INTEGER,\n",
    "    total_spend REAL,\n",
    "    num_transactions INTEGER,\n",
    "    num_items INTEGER\n",
    ")''')\n",
    "\n",
    "cursor.execute('''\n",
    "CREATE TABLE sales_by_owner (\n",
    "    card_no INTEGER,\n",
    "    year INTEGER,\n",
    "    month INTEGER,\n",
    "    total_sales REAL,\n",
    "    num_transactions INTEGER,\n",
    "    num_items INTEGER\n",
    ")''')\n",
    "\n",
    "cursor.execute('''\n",
    "CREATE TABLE sales_by_product (\n",
    "    upc TEXT,\n",
    "    description TEXT,\n",
    "    department INTEGER,\n",
    "    year INTEGER,\n",
    "    month INTEGER,\n",
    "    total_sales REAL,\n",
    "    num_transactions INTEGER,\n",
    "    num_items INTEGER\n",
    ")''')\n",
    "\n",
    "# Insert data into SQLite tables\n",
    "# Insert sales by hour\n",
    "df_sales_by_hour.to_sql('sales_by_hour', conn, if_exists='replace', index=False)\n",
    "\n",
    "# Insert sales by owner\n",
    "df_sales_by_owner.to_sql('sales_by_owner', conn, if_exists='replace', index=False)\n",
    "\n",
    "# Insert sales by product\n",
    "df_sales_by_product.to_sql('sales_by_product', conn, if_exists='replace', index=False)\n",
    "\n",
    "# Commit changes and close the connection\n",
    "conn.commit()\n",
    "conn.close()\n",
    "\n",
    "print(\"Summary tables created and stored in 'wedge_coop_summary.db'\")\n"
   ]
  }
 ],
 "metadata": {
  "kernelspec": {
   "display_name": "Python 3",
   "language": "python",
   "name": "python3"
  },
  "language_info": {
   "codemirror_mode": {
    "name": "ipython",
    "version": 3
   },
   "file_extension": ".py",
   "mimetype": "text/x-python",
   "name": "python",
   "nbconvert_exporter": "python",
   "pygments_lexer": "ipython3",
   "version": "3.12.7"
  }
 },
 "nbformat": 4,
 "nbformat_minor": 2
}
