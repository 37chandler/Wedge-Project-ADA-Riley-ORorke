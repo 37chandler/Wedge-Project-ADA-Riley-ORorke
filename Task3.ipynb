{
 "cells": [
  {
   "cell_type": "code",
   "execution_count": 1,
   "metadata": {},
   "outputs": [],
   "source": [
    "from google.cloud import bigquery\n",
    "import pandas as pd\n",
    "import sqlite3"
   ]
  },
  {
   "cell_type": "markdown",
   "metadata": {},
   "source": [
    "Connect to BigQuery and fetch the necessary data:"
   ]
  },
  {
   "cell_type": "code",
   "execution_count": null,
   "metadata": {},
   "outputs": [],
   "source": [
    "# Initialize a BigQuery client\n",
    "client = bigquery.Client()\n",
    "\n",
    "# List of transaction tables from umt-msba project (excluding inactive ones)\n",
    "table_names = [\n",
    "    'transArchive_201001_201003', 'transArchive_201004_201006', 'transArchive_201007_201009', \n",
    "    'transArchive_201010_201012', 'transArchive_201101_201103', 'transArchive_201104', \n",
    "    'transArchive_201105', 'transArchive_201106', 'transArchive_201107_201109', \n",
    "    'transArchive_201110_201112', 'transArchive_201201_201203', 'transArchive_201204_201206', \n",
    "    'transArchive_201207_201209', 'transArchive_201210_201212', 'transArchive_201301_201303', \n",
    "    'transArchive_201304_201306', 'transArchive_201307_201309', 'transArchive_201310_201312', \n",
    "    'transArchive_201401_201403', 'transArchive_201404_201406', 'transArchive_201407_201409', \n",
    "    'transArchive_201410_201412', 'transArchive_201501_201503', 'transArchive_201504_201506', \n",
    "    'transArchive_201507_201509', 'transArchive_201510', 'transArchive_201511', 'transArchive_201512', \n",
    "    'transArchive_201601', 'transArchive_201602', 'transArchive_201603', 'transArchive_201604', \n",
    "    'transArchive_201605', 'transArchive_201606', 'transArchive_201607', 'transArchive_201608', \n",
    "    'transArchive_201609', 'transArchive_201610', 'transArchive_201611', 'transArchive_201612', \n",
    "    'transArchive_201701'\n",
    "]\n",
    "\n",
    "# Construct a UNION query across all tables to gather data excluding non-owners (card_no != 3)\n",
    "union_query = \" UNION ALL \".join([\n",
    "    f\"SELECT datetime, card_no, department, description, upc, unitPrice, total, trans_status, \"\n",
    "    f\"EXTRACT(YEAR FROM datetime) AS year, EXTRACT(MONTH FROM datetime) AS month, \"\n",
    "    f\"EXTRACT(DAY FROM datetime) AS day, EXTRACT(HOUR FROM datetime) AS hour \"\n",
    "    f\"FROM `umt-msba.transactions.{table_name}` WHERE card_no != 3\" \n",
    "    for table_name in table_names\n",
    "])\n",
    "\n",
    "# Add the department_lookup table to join and fetch department names\n",
    "full_query = f\"\"\"\n",
    "    WITH owner_transactions AS (\n",
    "        {union_query}\n",
    "    )\n",
    "    SELECT ot.*, dl.dept_name\n",
    "    FROM owner_transactions ot\n",
    "    LEFT JOIN `umt-msba.transactions.department_lookup` dl\n",
    "    ON ot.department = dl.department\n",
    "\"\"\"\n",
    "# ADJUST LIMIT WHEN RUNNING FOR REAL\n",
    "\n",
    "# Execute the query and fetch the data\n",
    "df = client.query(full_query).to_dataframe()\n",
    "\n",
    "# Display the DataFrame\n",
    "print(df.head())\n"
   ]
  },
  {
   "cell_type": "code",
   "execution_count": 7,
   "metadata": {},
   "outputs": [
    {
     "name": "stderr",
     "output_type": "stream",
     "text": [
      "C:\\Users\\Riley_26\\AppData\\Local\\Temp\\ipykernel_24268\\1436812371.py:5: DtypeWarning: Columns (33,34) have mixed types. Specify dtype option on import or set low_memory=False.\n",
      "  df = pd.read_csv('G:/College/University of Montana/Semester 3/Applied Data Analytics/Wedge Project/Wedge-Project-ADA-Riley-ORorke/owner_transactions.csv', encoding='ISO-8859-1')\n",
      "C:\\Users\\Riley_26\\AppData\\Local\\Packages\\PythonSoftwareFoundation.Python.3.12_qbz5n2kfra8p0\\LocalCache\\local-packages\\Python312\\site-packages\\google\\cloud\\bigquery\\table.py:1727: UserWarning: BigQuery Storage module not found, fetch data with the REST endpoint instead.\n",
      "  warnings.warn(\n"
     ]
    },
    {
     "name": "stdout",
     "output_type": "stream",
     "text": [
      "Data with Department Names:\n",
      "                    datetime  register_no  emp_no  trans_no  upc description  \\\n",
      "0  2016-09-01 11:28:18+00:00         51.0    94.0     141.0  TAX         Tax   \n",
      "1  2016-09-01 11:39:03+00:00         51.0    94.0     150.0  TAX         Tax   \n",
      "2  2016-09-01 11:13:19+00:00          1.0    39.0      13.0  TAX         Tax   \n",
      "3  2016-09-01 11:41:29+00:00          4.0    36.0      58.0  TAX         Tax   \n",
      "4  2016-09-01 16:48:30+00:00          2.0    26.0      70.0  TAX         Tax   \n",
      "\n",
      "  trans_type trans_subtype trans_status  department  ...  local  organic  \\\n",
      "0          A           NaN          NaN         0.0  ...    0.0      NaN   \n",
      "1          A           NaN          NaN         0.0  ...    0.0      NaN   \n",
      "2          A           NaN          NaN         0.0  ...    0.0      NaN   \n",
      "3          A           NaN          NaN         0.0  ...    0.0      NaN   \n",
      "4          A           NaN          NaN         0.0  ...    0.0      NaN   \n",
      "\n",
      "   display  receipt  card_no  store  branch  match_id  trans_id  dept_name  \n",
      "0      NaN      0.0  21998.0    1.0     3.0       0.0      14.0        NaN  \n",
      "1      NaN      0.0  21998.0    1.0     3.0       0.0       9.0        NaN  \n",
      "2      NaN      0.0  15024.0    1.0     0.0       0.0      11.0        NaN  \n",
      "3      NaN      0.0  12498.0    1.0     0.0       0.0      12.0        NaN  \n",
      "4      NaN      0.0  19581.0    1.0     0.0       0.0      21.0        NaN  \n",
      "\n",
      "[5 rows x 51 columns]\n"
     ]
    }
   ],
   "source": [
    "# Initialize a BigQuery client\n",
    "client = bigquery.Client()\n",
    "\n",
    "# Load the sample data from the CSV file\n",
    "df = pd.read_csv('G:/College/University of Montana/Semester 3/Applied Data Analytics/Wedge Project/Wedge-Project-ADA-Riley-ORorke/owner_transactions.csv', encoding='ISO-8859-1')\n",
    "\n",
    "# Query the department_lookup table from BigQuery\n",
    "lookup_query = \"\"\"\n",
    "    SELECT department, dept_name\n",
    "    FROM `umt-msba.transactions.department_lookup`\n",
    "\"\"\"\n",
    "# Execute the query and fetch the department_lookup data\n",
    "department_lookup_df = client.query(lookup_query).to_dataframe()\n",
    "\n",
    "# Join the CSV data with the department_lookup data\n",
    "df = df.merge(department_lookup_df, on='department', how='left')\n",
    "\n",
    "# Display the merged DataFrame\n",
    "print(df.head())\n",
    "\n"
   ]
  },
  {
   "cell_type": "markdown",
   "metadata": {},
   "source": [
    "Build Summary Tables  \n",
    "    \n",
    "      \n",
    "      \n",
    "      \n",
    "1. Sales by date by hour:"
   ]
  },
  {
   "cell_type": "code",
   "execution_count": 9,
   "metadata": {},
   "outputs": [
    {
     "name": "stdout",
     "output_type": "stream",
     "text": [
      "      calendar_date  hour   total_spend  num_transactions  num_items\n",
      "0        2010-01-01    15  2.220446e-16                15         10\n",
      "1        2010-01-01    16  0.000000e+00                13          9\n",
      "2        2010-01-01    17  8.881784e-16                 6          2\n",
      "3        2010-01-01    18 -1.221245e-14                88         73\n",
      "4        2010-01-01    19  0.000000e+00                11          6\n",
      "...             ...   ...           ...               ...        ...\n",
      "23968    2017-01-30    21  0.000000e+00                 7          3\n",
      "23969    2017-01-31    17  0.000000e+00                 8          4\n",
      "23970    2017-01-31    19  1.776357e-15                11          3\n",
      "23971    2017-01-31    20  1.110223e-15                20          7\n",
      "23972    2017-01-31    21  4.267420e-16                 6          2\n",
      "\n",
      "[23973 rows x 5 columns]\n"
     ]
    }
   ],
   "source": [
    "# Ensure 'datetime' column is in datetime format\n",
    "df['datetime'] = pd.to_datetime(df['datetime'], errors='coerce')\n",
    "\n",
    "# Create 'calendar_date' column from the 'datetime' column\n",
    "df['calendar_date'] = df['datetime'].dt.date  # Extract date part (YYYY-MM-DD)\n",
    "df['hour'] = df['datetime'].dt.hour  # Extract hour part\n",
    "\n",
    "# Create the 'Sales by date by hour' summary table\n",
    "sales_by_hour = df.groupby(['calendar_date', 'hour']).agg(\n",
    "    total_spend=('total', 'sum'),\n",
    "    num_transactions=('datetime', 'count'),  # Use 'datetime' to count transactions\n",
    "    num_items=('trans_status', lambda x: ((x == ' ') | (x == '')).sum())  # Count items where trans_status is blank or a single space\n",
    ").reset_index()\n",
    "\n",
    "# Display the result\n",
    "print(sales_by_hour)\n",
    "\n"
   ]
  },
  {
   "cell_type": "markdown",
   "metadata": {},
   "source": [
    "2. Sales by owner by year by month:"
   ]
  },
  {
   "cell_type": "code",
   "execution_count": 15,
   "metadata": {},
   "outputs": [
    {
     "name": "stdout",
     "output_type": "stream",
     "text": [
      "      card_no  year  month   total_sales  num_transactions  num_items\n",
      "0     10067.0  2010      1  0.000000e+00                28         24\n",
      "1     10067.0  2010      2  8.881784e-15                23         23\n",
      "2     10067.0  2010      3 -3.774758e-15                17         17\n",
      "3     10067.0  2010      4  0.000000e+00                23         23\n",
      "4     10067.0  2010      5  2.664535e-15                43         42\n",
      "...       ...   ...    ...           ...               ...        ...\n",
      "9796  51049.0  2010      2  0.000000e+00                60         60\n",
      "9797  51049.0  2010      3  2.664535e-15                11         11\n",
      "9798  51049.0  2010      7  0.000000e+00                20         20\n",
      "9799  51049.0  2011      4  1.287859e-14                42         42\n",
      "9800  51171.0  2010      1  6.550316e-15                57         50\n",
      "\n",
      "[9801 rows x 6 columns]\n"
     ]
    }
   ],
   "source": [
    "# Extract 'year' and 'month' from the 'datetime' column\n",
    "df['year'] = df['datetime'].dt.year\n",
    "df['month'] = df['datetime'].dt.month\n",
    "\n",
    "# Create the 'Sales by owner by year by month' summary table\n",
    "sales_by_owner = df.groupby(['card_no', 'year', 'month']).agg(\n",
    "    total_sales=('total', 'sum'),\n",
    "    num_transactions=('trans_status', 'count'),\n",
    "    num_items=('trans_status', lambda x: ((x == ' ') | (x == '')).sum())  # Correct logical OR operation\n",
    ").reset_index()\n",
    "\n",
    "# Display the result\n",
    "print(sales_by_owner)\n"
   ]
  },
  {
   "cell_type": "markdown",
   "metadata": {},
   "source": [
    "3. Sales by product description by year by month:"
   ]
  },
  {
   "cell_type": "code",
   "execution_count": 12,
   "metadata": {},
   "outputs": [
    {
     "name": "stdout",
     "output_type": "stream",
     "text": [
      "               upc                  description  department         dept_name  \\\n",
      "0                0                  BULK Coupon         3.0              BULK   \n",
      "1                0                FROZEN Coupon         6.0            FROZEN   \n",
      "2                0      PACKAGED GROCERY Coupon         1.0  PACKAGED GROCERY   \n",
      "3                0      PACKAGED GROCERY Coupon         1.0  PACKAGED GROCERY   \n",
      "4                0      PACKAGED GROCERY Coupon         1.0  PACKAGED GROCERY   \n",
      "...            ...                          ...         ...               ...   \n",
      "200821  WWDISCOUNT  Wellness Wednesday Discount        10.0       SUPPLEMENTS   \n",
      "200822  WWDISCOUNT  Wellness Wednesday Discount        10.0       SUPPLEMENTS   \n",
      "200823  WWDISCOUNT  Wellness Wednesday Discount        10.0       SUPPLEMENTS   \n",
      "200824  WWDISCOUNT  Wellness Wednesday Discount        10.0       SUPPLEMENTS   \n",
      "200825  WWDISCOUNT  Wellness Wednesday Discount        10.0       SUPPLEMENTS   \n",
      "\n",
      "        year  month  total_sales  num_transactions  num_items  \n",
      "0       2010      3        -4.00                 3          0  \n",
      "1       2010      2        -2.00                 1          0  \n",
      "2       2010      1        -9.00                 3          0  \n",
      "3       2010      2        -1.00                 1          0  \n",
      "4       2010      3        -1.75                 2          0  \n",
      "...      ...    ...          ...               ...        ...  \n",
      "200821  2016      9        -2.47                 2          0  \n",
      "200822  2016     10        -5.04                 2          0  \n",
      "200823  2016     11        -0.06                 1          0  \n",
      "200824  2016     12        -2.80                 2          0  \n",
      "200825  2017      1        -8.43                 2          0  \n",
      "\n",
      "[200826 rows x 9 columns]\n"
     ]
    }
   ],
   "source": [
    "# Create the 'Sales by product description by year by month' summary table\n",
    "sales_by_product = df.groupby(['upc', 'description', 'department', 'dept_name', 'year', 'month']).agg(\n",
    "    total_sales=('total', 'sum'),\n",
    "    num_transactions=('datetime', 'count'),  # Count transactions using 'datetime'\n",
    "    num_items=('trans_status', lambda x: ((x == ' ') | (x == '')).sum())  # Correct logical OR operation to count items\n",
    ").reset_index()\n",
    "\n",
    "# Display the result\n",
    "print(sales_by_product)\n"
   ]
  },
  {
   "cell_type": "markdown",
   "metadata": {},
   "source": [
    "Create SQLite Database and Insert Data"
   ]
  },
  {
   "cell_type": "code",
   "execution_count": 16,
   "metadata": {},
   "outputs": [
    {
     "name": "stdout",
     "output_type": "stream",
     "text": [
      "Summary tables created and stored in 'wedge_coop_summary.db'\n"
     ]
    }
   ],
   "source": [
    "# Create SQLite connection and cursor\n",
    "conn = sqlite3.connect('wedge_coop_summary.db')\n",
    "cursor = conn.cursor()\n",
    "\n",
    "# Create the tables in SQLite\n",
    "cursor.execute('''\n",
    "CREATE TABLE sales_by_hour (\n",
    "    year INTEGER,\n",
    "    month INTEGER,\n",
    "    day INTEGER,\n",
    "    hour INTEGER,\n",
    "    total_spend REAL,\n",
    "    num_transactions INTEGER,\n",
    "    num_items INTEGER\n",
    ")''')\n",
    "\n",
    "cursor.execute('''\n",
    "CREATE TABLE sales_by_owner (\n",
    "    card_no INTEGER,\n",
    "    year INTEGER,\n",
    "    month INTEGER,\n",
    "    total_sales REAL,\n",
    "    num_transactions INTEGER,\n",
    "    num_items INTEGER\n",
    ")''')\n",
    "\n",
    "cursor.execute('''\n",
    "CREATE TABLE sales_by_product (\n",
    "    upc TEXT,\n",
    "    description TEXT,\n",
    "    department INTEGER,\n",
    "    year INTEGER,\n",
    "    month INTEGER,\n",
    "    total_sales REAL,\n",
    "    num_transactions INTEGER,\n",
    "    num_items INTEGER\n",
    ")''')\n",
    "\n",
    "# Insert data into SQLite tables\n",
    "# Insert sales by hour\n",
    "sales_by_hour.to_sql('sales_by_hour', conn, if_exists='replace', index=False)\n",
    "\n",
    "# Insert sales by owner\n",
    "sales_by_owner.to_sql('sales_by_owner', conn, if_exists='replace', index=False)\n",
    "\n",
    "# Insert sales by product\n",
    "sales_by_product.to_sql('sales_by_product', conn, if_exists='replace', index=False)\n",
    "\n",
    "# Commit changes and close the connection\n",
    "conn.commit()\n",
    "conn.close()\n",
    "\n",
    "print(\"Summary tables created and stored in 'wedge_coop_summary.db'\")\n"
   ]
  }
 ],
 "metadata": {
  "kernelspec": {
   "display_name": "Python 3",
   "language": "python",
   "name": "python3"
  },
  "language_info": {
   "codemirror_mode": {
    "name": "ipython",
    "version": 3
   },
   "file_extension": ".py",
   "mimetype": "text/x-python",
   "name": "python",
   "nbconvert_exporter": "python",
   "pygments_lexer": "ipython3",
   "version": "3.12.6"
  }
 },
 "nbformat": 4,
 "nbformat_minor": 2
}
