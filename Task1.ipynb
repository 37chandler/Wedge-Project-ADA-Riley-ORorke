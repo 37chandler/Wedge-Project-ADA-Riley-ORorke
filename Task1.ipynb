{
 "cells": [
  {
   "cell_type": "code",
   "execution_count": null,
   "metadata": {},
   "outputs": [],
   "source": [
    "import pandas as pd\n",
    "\n",
    "# Load the raw and clean CSV files into pandas dataframes\n",
    "raw_df = pd.read_csv(r'G:\\College\\University of Montana\\Semester 3\\Applied Data Analytics\\Wedge Project\\Wedge-Project-ADA-Riley-ORorke\\transArchive_201001_201003(raw).csv')\n",
    "clean_df = pd.read_csv(r'G:\\College\\University of Montana\\Semester 3\\Applied Data Analytics\\Wedge Project\\Wedge-Project-ADA-Riley-ORorke\\transArchive_201001_201003(clean).csv')\n",
    "\n",
    "# Display the first few rows of both dataframes\n",
    "print(\"Raw Data:\")\n",
    "print(raw_df.head())\n",
    "\n",
    "print(\"\\nClean Data:\")\n",
    "print(clean_df.head())\n",
    "\n",
    "# Show the column structure for both dataframes\n",
    "print(\"\\nRaw Data Columns:\")\n",
    "print(raw_df.columns)\n",
    "\n",
    "print(\"\\nClean Data Columns:\")\n",
    "print(clean_df.columns)\n"
   ]
  },
  {
   "cell_type": "code",
   "execution_count": 16,
   "metadata": {},
   "outputs": [
    {
     "name": "stdout",
     "output_type": "stream",
     "text": [
      "Processing complete. Cleaned data saved to cleaned_transactions.csv\n"
     ]
    }
   ],
   "source": [
    "import pandas as pd\n",
    "\n",
    "# Load the raw CSV into a DataFrame (entire dataset)\n",
    "raw_file_path = 'transArchive_201001_201003(raw).csv'  # Update the path with your actual file\n",
    "raw_df = pd.read_csv(raw_file_path)\n",
    "\n",
    "# Define a function for cleaning the raw data\n",
    "def clean_transaction_data(df):\n",
    "    # Convert datetime column to datetime object\n",
    "    df['datetime'] = pd.to_datetime(df['datetime'], errors='coerce')\n",
    "    \n",
    "    # Handle missing values by either filling them or dropping rows/columns\n",
    "    df.fillna({'trans_subtype': 'Unknown', 'department': -1}, inplace=True)\n",
    "    \n",
    "    # Convert numeric fields to appropriate data types\n",
    "    numeric_columns = ['quantity', 'cost', 'unitPrice', 'total', 'regPrice', 'altPrice', 'discount', 'memDiscount']\n",
    "    df[numeric_columns] = df[numeric_columns].apply(pd.to_numeric, errors='coerce')\n",
    "    \n",
    "    # Drop any rows where mandatory columns like datetime are missing\n",
    "    df.dropna(subset=['datetime'], inplace=True)\n",
    "\n",
    "    # Filter rows where trans_type is 'T' (tender/payments only)\n",
    "    df = df[df['trans_type'] == 'T']\n",
    "    \n",
    "    # Filter rows where trans_subtype is one of the specified values\n",
    "    valid_trans_subtypes = [\"CA\", \"CC\", \"CK\", \"GD\", \"IC\"]\n",
    "    df = df[df['trans_subtype'].isin(valid_trans_subtypes)]\n",
    "    \n",
    "    # Set all 'upc' values to '0'\n",
    "    df['upc'] = '0'\n",
    "    \n",
    "    # Convert the staff column where 0 becomes \"FALSE\"\n",
    "    df['staff'] = df['staff'].replace(0, 'FALSE')\n",
    "    \n",
    "    return df\n",
    "\n",
    "# Apply the cleaning function to the entire dataset\n",
    "cleaned_df = clean_transaction_data(raw_df)\n",
    "\n",
    "# Save the cleaned data to a CSV\n",
    "output_file_path = 'cleaned_transactions.csv'\n",
    "cleaned_df.to_csv(output_file_path, index=False)\n",
    "\n",
    "print(\"Processing complete. Cleaned data saved to\", output_file_path)\n",
    "\n",
    "\n"
   ]
  },
  {
   "cell_type": "code",
   "execution_count": 15,
   "metadata": {},
   "outputs": [
    {
     "name": "stdout",
     "output_type": "stream",
     "text": [
      "Sample saved to sample_raw_file.csv\n"
     ]
    }
   ],
   "source": [
    "import pandas as pd\n",
    "\n",
    "# Load the raw CSV into a DataFrame\n",
    "raw_file_path = 'transArchive_201001_201003(raw).csv'\n",
    "raw_df = pd.read_csv(raw_file_path)\n",
    "\n",
    "# Create a sample of 1000 rows (you can adjust the sample size)\n",
    "sample_size = 1000\n",
    "sample_df = raw_df.sample(n=sample_size, random_state=42)\n",
    "\n",
    "# Save the sample to a new CSV\n",
    "sample_file_path = 'sample_raw_file.csv'\n",
    "sample_df.to_csv(sample_file_path, index=False)\n",
    "\n",
    "print(f\"Sample saved to {sample_file_path}\")\n"
   ]
  }
 ],
 "metadata": {
  "kernelspec": {
   "display_name": "Python 3",
   "language": "python",
   "name": "python3"
  },
  "language_info": {
   "codemirror_mode": {
    "name": "ipython",
    "version": 3
   },
   "file_extension": ".py",
   "mimetype": "text/x-python",
   "name": "python",
   "nbconvert_exporter": "python",
   "pygments_lexer": "ipython3",
   "version": "3.12.6"
  }
 },
 "nbformat": 4,
 "nbformat_minor": 2
}
